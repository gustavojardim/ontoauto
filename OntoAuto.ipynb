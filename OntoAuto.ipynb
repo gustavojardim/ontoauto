{
 "cells": [
  {
   "cell_type": "code",
   "execution_count": 2,
   "id": "cc351cb8-3c6c-4314-baa4-7100ec96ef3c",
   "metadata": {},
   "outputs": [
    {
     "name": "stdout",
     "output_type": "stream",
     "text": [
      "Requirement already satisfied: rdflib in c:\\users\\gusta\\appdata\\local\\programs\\python\\python312\\lib\\site-packages (7.0.0)\n",
      "Requirement already satisfied: isodate<0.7.0,>=0.6.0 in c:\\users\\gusta\\appdata\\local\\programs\\python\\python312\\lib\\site-packages (from rdflib) (0.6.1)\n",
      "Requirement already satisfied: pyparsing<4,>=2.1.0 in c:\\users\\gusta\\appdata\\local\\programs\\python\\python312\\lib\\site-packages (from rdflib) (3.1.2)\n",
      "Requirement already satisfied: six in c:\\users\\gusta\\appdata\\local\\programs\\python\\python312\\lib\\site-packages (from isodate<0.7.0,>=0.6.0->rdflib) (1.16.0)\n"
     ]
    },
    {
     "name": "stderr",
     "output_type": "stream",
     "text": [
      "\n",
      "[notice] A new release of pip is available: 24.0 -> 24.1.1\n",
      "[notice] To update, run: python.exe -m pip install --upgrade pip\n",
      "\n",
      "[notice] A new release of pip is available: 24.0 -> 24.1.1\n",
      "[notice] To update, run: python.exe -m pip install --upgrade pip\n"
     ]
    },
    {
     "name": "stdout",
     "output_type": "stream",
     "text": [
      "Requirement already satisfied: nltk in c:\\users\\gusta\\appdata\\local\\programs\\python\\python312\\lib\\site-packages (3.8.1)\n",
      "Requirement already satisfied: click in c:\\users\\gusta\\appdata\\local\\programs\\python\\python312\\lib\\site-packages (from nltk) (8.1.7)\n",
      "Requirement already satisfied: joblib in c:\\users\\gusta\\appdata\\local\\programs\\python\\python312\\lib\\site-packages (from nltk) (1.4.2)\n",
      "Requirement already satisfied: regex>=2021.8.3 in c:\\users\\gusta\\appdata\\local\\programs\\python\\python312\\lib\\site-packages (from nltk) (2024.5.15)\n",
      "Requirement already satisfied: tqdm in c:\\users\\gusta\\appdata\\local\\programs\\python\\python312\\lib\\site-packages (from nltk) (4.66.4)\n",
      "Requirement already satisfied: colorama in c:\\users\\gusta\\appdata\\local\\programs\\python\\python312\\lib\\site-packages (from click->nltk) (0.4.6)\n",
      "Requirement already satisfied: SPARQLWrapper in c:\\users\\gusta\\appdata\\local\\programs\\python\\python312\\lib\\site-packages (2.0.0)\n",
      "Requirement already satisfied: rdflib>=6.1.1 in c:\\users\\gusta\\appdata\\local\\programs\\python\\python312\\lib\\site-packages (from SPARQLWrapper) (7.0.0)\n",
      "Requirement already satisfied: isodate<0.7.0,>=0.6.0 in c:\\users\\gusta\\appdata\\local\\programs\\python\\python312\\lib\\site-packages (from rdflib>=6.1.1->SPARQLWrapper) (0.6.1)\n",
      "Requirement already satisfied: pyparsing<4,>=2.1.0 in c:\\users\\gusta\\appdata\\local\\programs\\python\\python312\\lib\\site-packages (from rdflib>=6.1.1->SPARQLWrapper) (3.1.2)\n",
      "Requirement already satisfied: six in c:\\users\\gusta\\appdata\\local\\programs\\python\\python312\\lib\\site-packages (from isodate<0.7.0,>=0.6.0->rdflib>=6.1.1->SPARQLWrapper) (1.16.0)\n"
     ]
    },
    {
     "name": "stderr",
     "output_type": "stream",
     "text": [
      "\n",
      "[notice] A new release of pip is available: 24.0 -> 24.1.1\n",
      "[notice] To update, run: python.exe -m pip install --upgrade pip\n"
     ]
    }
   ],
   "source": [
    "import sys\n",
    "!{sys.executable} -m pip install rdflib\n",
    "!{sys.executable} -m pip install nltk\n",
    "!{sys.executable} -m pip install SPARQLWrapper"
   ]
  },
  {
   "cell_type": "code",
   "execution_count": 3,
   "id": "55741c9e-90c4-4f28-818c-64cabcbe4aa6",
   "metadata": {},
   "outputs": [
    {
     "name": "stderr",
     "output_type": "stream",
     "text": [
      "[nltk_data] Downloading package stopwords to\n",
      "[nltk_data]     C:\\Users\\gusta\\AppData\\Roaming\\nltk_data...\n",
      "[nltk_data]   Package stopwords is already up-to-date!\n",
      "[nltk_data] Downloading package punkt to\n",
      "[nltk_data]     C:\\Users\\gusta\\AppData\\Roaming\\nltk_data...\n",
      "[nltk_data]   Package punkt is already up-to-date!\n"
     ]
    },
    {
     "data": {
      "text/plain": [
       "True"
      ]
     },
     "execution_count": 3,
     "metadata": {},
     "output_type": "execute_result"
    }
   ],
   "source": [
    "from rdflib import Graph\n",
    "import nltk\n",
    "from nltk.corpus import stopwords\n",
    "from nltk.tokenize import word_tokenize\n",
    "from nltk.probability import FreqDist\n",
    "\n",
    "# Download NLTK data (stopwords and punkt)\n",
    "nltk.download('stopwords')\n",
    "nltk.download('punkt')"
   ]
  },
  {
   "cell_type": "code",
   "execution_count": null,
   "id": "9cacc968-3341-4fe3-b8bf-073ac7f4acad",
   "metadata": {},
   "outputs": [],
   "source": [
    "# Load the RDF graph\n",
    "graph = Graph()\n",
    "graph.parse(\"./car-defects-ontology.rdf\")\n",
    "\n",
    "# Define a function to execute SPARQL queries\n",
    "def execute_query(graph, query):\n",
    "    result = graph.query(query)\n",
    "    for row in result:\n",
    "        print(row)\n",
    "\n",
    "# Function to extract keywords from symptom description\n",
    "def extract_keywords(description):\n",
    "    stop_words = set(stopwords.words('english'))\n",
    "    word_tokens = word_tokenize(description)\n",
    "    filtered_words = [w for w in word_tokens if w.isalnum() and not w in stop_words]\n",
    "    return filtered_words\n",
    "\n",
    "# Function to generate a SPARQL query based on keywords\n",
    "def generate_sparql_query(keywords):\n",
    "    # Constructing the filter conditions using CONTAINS and LCASE\n",
    "    filter_conditions = ' '.join([f'FILTER (CONTAINS(LCASE(?symptomTitle), \"{keyword.lower()}\"))' for keyword in keywords])\n",
    "    # Constructing the SPARQL query with variable defect\n",
    "    query = f\"\"\"\n",
    "        PREFIX car: <http://www.example.com/car#>\n",
    "        \n",
    "        SELECT ?symptomTitle ?symptomDescription ?defectName\n",
    "        WHERE {{\n",
    "          # Filter by symptom title with CONTAINS and LCASE for case-insensitive matching\n",
    "          {filter_conditions}\n",
    "        \n",
    "          # Search only against symptomTitle\n",
    "          ?symptom car:symptomTitle ?symptomTitle .\n",
    "          \n",
    "          # Link symptom to defect through isSymptomOf\n",
    "          ?symptom car:isSymptomOf ?defect .\n",
    "          \n",
    "          # Retrieve defect name\n",
    "          ?defect car:defectName ?defectName .\n",
    "          ?symptom car:symptomDescription ?symptomDescription\n",
    "        }}\n",
    "    \"\"\"\n",
    "    return query\n",
    "\n",
    "# Example symptom description\n",
    "symptom_description = \"Clunk sound\"\n",
    "\n",
    "# Extract keywords from the symptom description\n",
    "keywords = extract_keywords(symptom_description)\n",
    "\n",
    "# Generate the SPARQL query\n",
    "query = generate_sparql_query(keywords)\n",
    "\n",
    "# Execute the query\n",
    "execute_query(graph, query)"
   ]
  },
  {
   "cell_type": "code",
   "execution_count": null,
   "id": "2c74dc9c-8c9a-4fae-9fbb-94826086cd0d",
   "metadata": {},
   "outputs": [],
   "source": []
  }
 ],
 "metadata": {
  "kernelspec": {
   "display_name": "Python 3 (ipykernel)",
   "language": "python",
   "name": "python3"
  },
  "language_info": {
   "codemirror_mode": {
    "name": "ipython",
    "version": 3
   },
   "file_extension": ".py",
   "mimetype": "text/x-python",
   "name": "python",
   "nbconvert_exporter": "python",
   "pygments_lexer": "ipython3",
   "version": "3.12.4"
  }
 },
 "nbformat": 4,
 "nbformat_minor": 5
}
